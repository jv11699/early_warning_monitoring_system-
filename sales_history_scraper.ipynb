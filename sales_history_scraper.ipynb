{
 "cells": [
  {
   "cell_type": "markdown",
   "metadata": {},
   "source": [
    "# Below is a scraper that scrapes the website http://ecclerk.erie.gov/or_wb1/\n",
    "## the scraper that scraped the sbls below can be found on the file scraper_real_property_erie_county.ipynb"
   ]
  },
  {
   "cell_type": "code",
   "execution_count": 367,
   "metadata": {},
   "outputs": [
    {
     "data": {
      "text/html": [
       "<div>\n",
       "<style scoped>\n",
       "    .dataframe tbody tr th:only-of-type {\n",
       "        vertical-align: middle;\n",
       "    }\n",
       "\n",
       "    .dataframe tbody tr th {\n",
       "        vertical-align: top;\n",
       "    }\n",
       "\n",
       "    .dataframe thead th {\n",
       "        text-align: right;\n",
       "    }\n",
       "</style>\n",
       "<table border=\"1\" class=\"dataframe\">\n",
       "  <thead>\n",
       "    <tr style=\"text-align: right;\">\n",
       "      <th></th>\n",
       "      <th>0</th>\n",
       "      <th>1</th>\n",
       "      <th>2</th>\n",
       "      <th>3</th>\n",
       "      <th>4</th>\n",
       "      <th>5</th>\n",
       "      <th>6</th>\n",
       "      <th>7</th>\n",
       "    </tr>\n",
       "  </thead>\n",
       "  <tbody>\n",
       "    <tr>\n",
       "      <th>0</th>\n",
       "      <td>100.21-1-11.1</td>\n",
       "      <td>Owner</td>\n",
       "      <td>BOND DAVID/REINECK CHARLE</td>\n",
       "      <td>Book-Page/Date</td>\n",
       "      <td>10927-4370 * 2/10/1998 *</td>\n",
       "      <td>10927/4370</td>\n",
       "      <td>2-10-1998</td>\n",
       "      <td>10927-4370</td>\n",
       "    </tr>\n",
       "    <tr>\n",
       "      <th>1</th>\n",
       "      <td>100.21-1-15</td>\n",
       "      <td>Owner</td>\n",
       "      <td>HERR EVELYN</td>\n",
       "      <td>Book-Page/Date</td>\n",
       "      <td>8036-431 * 4/30/1973 *</td>\n",
       "      <td>8036/431</td>\n",
       "      <td>4-30-1973</td>\n",
       "      <td>8036-431</td>\n",
       "    </tr>\n",
       "    <tr>\n",
       "      <th>2</th>\n",
       "      <td>100.21-1-19</td>\n",
       "      <td>Owner</td>\n",
       "      <td>DISPENZA ANTONINA</td>\n",
       "      <td>Book-Page/Date</td>\n",
       "      <td>7389-337 * 8/31/1967 *</td>\n",
       "      <td>7389/337</td>\n",
       "      <td>8-31-1967</td>\n",
       "      <td>7389-337</td>\n",
       "    </tr>\n",
       "    <tr>\n",
       "      <th>3</th>\n",
       "      <td>100.21-1-21</td>\n",
       "      <td>Owner</td>\n",
       "      <td>RINIOLO RUSSELL P</td>\n",
       "      <td>Book-Page/Date</td>\n",
       "      <td>8006-43 * 1/16/1973 *</td>\n",
       "      <td>8006/43</td>\n",
       "      <td>1-16-1973</td>\n",
       "      <td>8006-43</td>\n",
       "    </tr>\n",
       "    <tr>\n",
       "      <th>4</th>\n",
       "      <td>100.21-1-21</td>\n",
       "      <td>Owner</td>\n",
       "      <td>PARKER MICHAEL A</td>\n",
       "      <td>Book-Page/Date</td>\n",
       "      <td>10035-505 * 6/16/1989 *</td>\n",
       "      <td>10035/505</td>\n",
       "      <td>6-16-1989</td>\n",
       "      <td>10035-505</td>\n",
       "    </tr>\n",
       "    <tr>\n",
       "      <th>...</th>\n",
       "      <td>...</td>\n",
       "      <td>...</td>\n",
       "      <td>...</td>\n",
       "      <td>...</td>\n",
       "      <td>...</td>\n",
       "      <td>...</td>\n",
       "      <td>...</td>\n",
       "      <td>...</td>\n",
       "    </tr>\n",
       "    <tr>\n",
       "      <th>27505</th>\n",
       "      <td>99.84-8-4.1</td>\n",
       "      <td>Owner</td>\n",
       "      <td>GE MORTGAGE SERVICE LLC</td>\n",
       "      <td>Book-Page/Date</td>\n",
       "      <td>11017-4682 * 10/29/2002 *</td>\n",
       "      <td>11017/4682</td>\n",
       "      <td>10-29-2002</td>\n",
       "      <td>11017-4682</td>\n",
       "    </tr>\n",
       "    <tr>\n",
       "      <th>27506</th>\n",
       "      <td>99.84-8-4.1</td>\n",
       "      <td>Owner</td>\n",
       "      <td>WILLIAMS ALVA</td>\n",
       "      <td>Book-Page/Date</td>\n",
       "      <td>11029-6698 * 2/14/2003 *</td>\n",
       "      <td>11029/6698</td>\n",
       "      <td>2-14-2003</td>\n",
       "      <td>11029-6698</td>\n",
       "    </tr>\n",
       "    <tr>\n",
       "      <th>27507</th>\n",
       "      <td>99.84-8-4.1</td>\n",
       "      <td>Owner</td>\n",
       "      <td>CITY OF BUFFALO REF</td>\n",
       "      <td>Book-Page/Date</td>\n",
       "      <td>R 39-S0469 * 9/15/2005 *</td>\n",
       "      <td>R39/S0469</td>\n",
       "      <td>9-15-2005</td>\n",
       "      <td>R39-S0469</td>\n",
       "    </tr>\n",
       "    <tr>\n",
       "      <th>27508</th>\n",
       "      <td>99.84-8-4.1</td>\n",
       "      <td>Owner</td>\n",
       "      <td>CITY OF BUFFALO</td>\n",
       "      <td>Book-Page/Date</td>\n",
       "      <td>11104-9301 * 11/16/2005 *</td>\n",
       "      <td>11104/9301</td>\n",
       "      <td>11-16-2005</td>\n",
       "      <td>11104-9301</td>\n",
       "    </tr>\n",
       "    <tr>\n",
       "      <th>27509</th>\n",
       "      <td>99.84-8-4.1</td>\n",
       "      <td>Owner</td>\n",
       "      <td>WEEKLEY ADAM P</td>\n",
       "      <td>Book-Page/Date</td>\n",
       "      <td>11179-9611 * 3/31/2010 *</td>\n",
       "      <td>11179/9611</td>\n",
       "      <td>3-31-2010</td>\n",
       "      <td>11179-9611</td>\n",
       "    </tr>\n",
       "  </tbody>\n",
       "</table>\n",
       "<p>27510 rows × 8 columns</p>\n",
       "</div>"
      ],
      "text/plain": [
       "                   0      1                          2               3  \\\n",
       "0      100.21-1-11.1  Owner  BOND DAVID/REINECK CHARLE  Book-Page/Date   \n",
       "1        100.21-1-15  Owner                HERR EVELYN  Book-Page/Date   \n",
       "2        100.21-1-19  Owner          DISPENZA ANTONINA  Book-Page/Date   \n",
       "3        100.21-1-21  Owner          RINIOLO RUSSELL P  Book-Page/Date   \n",
       "4        100.21-1-21  Owner           PARKER MICHAEL A  Book-Page/Date   \n",
       "...              ...    ...                        ...             ...   \n",
       "27505    99.84-8-4.1  Owner    GE MORTGAGE SERVICE LLC  Book-Page/Date   \n",
       "27506    99.84-8-4.1  Owner              WILLIAMS ALVA  Book-Page/Date   \n",
       "27507    99.84-8-4.1  Owner        CITY OF BUFFALO REF  Book-Page/Date   \n",
       "27508    99.84-8-4.1  Owner            CITY OF BUFFALO  Book-Page/Date   \n",
       "27509    99.84-8-4.1  Owner             WEEKLEY ADAM P  Book-Page/Date   \n",
       "\n",
       "                               4           5           6           7  \n",
       "0       10927-4370 * 2/10/1998 *  10927/4370   2-10-1998  10927-4370  \n",
       "1         8036-431 * 4/30/1973 *    8036/431   4-30-1973    8036-431  \n",
       "2         7389-337 * 8/31/1967 *    7389/337   8-31-1967    7389-337  \n",
       "3          8006-43 * 1/16/1973 *     8006/43   1-16-1973     8006-43  \n",
       "4        10035-505 * 6/16/1989 *   10035/505   6-16-1989   10035-505  \n",
       "...                          ...         ...         ...         ...  \n",
       "27505  11017-4682 * 10/29/2002 *  11017/4682  10-29-2002  11017-4682  \n",
       "27506   11029-6698 * 2/14/2003 *  11029/6698   2-14-2003  11029-6698  \n",
       "27507   R 39-S0469 * 9/15/2005 *   R39/S0469   9-15-2005   R39-S0469  \n",
       "27508  11104-9301 * 11/16/2005 *  11104/9301  11-16-2005  11104-9301  \n",
       "27509   11179-9611 * 3/31/2010 *  11179/9611   3-31-2010  11179-9611  \n",
       "\n",
       "[27510 rows x 8 columns]"
      ]
     },
     "execution_count": 367,
     "metadata": {},
     "output_type": "execute_result"
    }
   ],
   "source": [
    "import pandas as pd\n",
    "df = pd.read_csv(\"../../../data/gentrification/TAX_DATA/no_sales_history_sbls/missing_sbls.csv\", header = None)\n",
    "df[5] = df[4].str.split('*').str[0].str.replace(' ','').str.replace('-','/')\n",
    "df[6] = df[4].str.split('*').str[1].str.replace(' ','').str.replace('/','-')\n",
    "df[7] = df[4].str.split('*').str[0].str.replace(' ','')\n",
    "df"
   ]
  },
  {
   "cell_type": "code",
   "execution_count": 141,
   "metadata": {},
   "outputs": [],
   "source": [
    "import requests\n",
    "\n",
    "headers = {'User-Agent': 'Mozilla/5.0'}\n",
    "data={}\n",
    "\n",
    "data['value']=\"Search\"\n",
    "data['type']=\"hidden\"\n",
    "data['onclick']=\"javascript:ValidateAndSubmit(this.form)\"\n",
    "data['search_entry']=\"smith\"#\"4810/146\"\n"
   ]
  },
  {
   "cell_type": "code",
   "execution_count": null,
   "metadata": {},
   "outputs": [],
   "source": [
    "from bs4 import BeautifulSoup\n",
    "from collections import defaultdict\n",
    "pd.read_csv('sbls.csv')"
   ]
  },
  {
   "cell_type": "code",
   "execution_count": 626,
   "metadata": {},
   "outputs": [],
   "source": [
    "from IPython.core.display import display, HTML\n",
    "dct = defaultdict()\n",
    "lst_failed= []"
   ]
  },
  {
   "cell_type": "code",
   "execution_count": 10,
   "metadata": {},
   "outputs": [],
   "source": [
    "from IPython.display import clear_output\n",
    "#!/usr/bin/env python3\n",
    "# -*- coding: utf-8 -*-\n",
    "# =============================================================================\n",
    "# !/usr/bin/env python3\n",
    "# -*- coding: utf-8 -*-\n",
    "# =============================================================================\n",
    "# Created By  : Voltaire Vergara\n",
    "# Created Date: 11/8/2019\n",
    "# =============================================================================\n",
    "\"\"\"\n",
    "The aim of this file is to reproduce a beautiful soup object that contains\n",
    "the tax history data of an individual through the erie county tax parcel website. Here we use an individiuals\n",
    "unique SBL to query information\n",
    "\"\"\"\n",
    "from time import sleep\n",
    "import requests\n",
    "from bs4 import BeautifulSoup\n",
    "import urllib.parse as urlparse\n",
    "from urllib.parse import parse_qs\n",
    "\n",
    "counter = 0\n",
    "\n",
    "def grab_source_SBL(deed_page,sbl):\n",
    "    \"\"\"\n",
    "    Queries the Real Property Parcer of erie county(Specifically only SBL values), which can be found on this link:\n",
    "                            http://www2.erie.gov/ecrpts/index.php?q=real-property-parcel-search\n",
    "    This function will return a beautiful soup object of the source code of a SBL's tax History.\n",
    "    :param sbl: SBL value that we are searching for\n",
    "    :param mode: it can be tax information history for: \"ecgov\", or owner history for anything else\n",
    "    :return: a Beautiful soup object of the tax extry history of that SBL\n",
    "    \"\"\"\n",
    "    global counter\n",
    "    try:\n",
    "        file_name = sbl + \"+\" + deed_page \n",
    "        print(\"FILE:\" + file_name)\n",
    "        file_name = file_name.replace('.','#').replace('/','$')\n",
    "        body = {'search_entry': deed_page,  # WE CAN CHANGE THIS TO SBL BUT THIS IS OWNER NAME\n",
    "                'search_by': 'Dynamic Book/Page'}\n",
    "        headers = {'User-Agent': 'Mozilla/5.0'}\n",
    "    \n",
    "        url2 ='http://ecclerk.erie.gov/or_wb1/'  # url we needed adding to since this is the root link\n",
    "\n",
    "        url = 'http://ecclerk.erie.gov/or_wb1/new_sch.asp'  # search website\n",
    "        link = requests.post(url, data=body,headers = headers )\n",
    "        source_soup = BeautifulSoup(link.content, 'html.parser')\n",
    "        owner = source_soup.find_all('a', {'class': 'list_2'})\n",
    "        counting = 1 \n",
    "        for own in owner:\n",
    "            con2 = requests.post(url2+ ''.join(own['href'].split()))\n",
    "            details_soup = BeautifulSoup(con2.content, 'lxml')    \n",
    "            with open(\"../../../data/gentrification/LATEST/htmls4/\"+file_name+\"&\" + str(counting) + \".html\",\"w\") as of:\n",
    "                of.write(str(details_soup.html)) \n",
    "            counting += 1\n",
    "        counter += 1 \n",
    "    except Exception as e:\n",
    "        print('failure on----------------------')\n",
    "        print(sbl)\n",
    "        print(deed_page)\n",
    "        print(e)\n",
    "        #lst_failed.append([deed_page,sbl])\n",
    "    print(counter/len(df2) * 100)\n",
    "    clear_output(wait = True)\n",
    "    #print(pd.read_html(str(details_soup))[4][1][6])"
   ]
  },
  {
   "cell_type": "code",
   "execution_count": 11,
   "metadata": {},
   "outputs": [
    {
     "data": {
      "text/plain": [
       "231420    None\n",
       "231421    None\n",
       "231422    None\n",
       "231423    None\n",
       "231424    None\n",
       "          ... \n",
       "308556    None\n",
       "308557    None\n",
       "308558    None\n",
       "308559    None\n",
       "308560    None\n",
       "Length: 77141, dtype: object"
      ]
     },
     "execution_count": 11,
     "metadata": {},
     "output_type": "execute_result"
    }
   ],
   "source": [
    "df3.apply(lambda row: grab_source_SBL(row['Deed page'],row['SBLS']), axis = 1 )"
   ]
  },
  {
   "cell_type": "markdown",
   "metadata": {},
   "source": [
    "# This section we combine all the owner history htmls onto a dataframe. we try to append all the owner history onto one CSV"
   ]
  },
  {
   "cell_type": "code",
   "execution_count": 18,
   "metadata": {},
   "outputs": [
    {
     "data": {
      "text/plain": [
       "'78#57-4-4.html'"
      ]
     },
     "execution_count": 18,
     "metadata": {},
     "output_type": "execute_result"
    }
   ],
   "source": [
    "import os\n",
    "path = \"../../../data/gentrification/LATEST/owner_history_htmls/\"\n",
    "files = os.listdir(path)#\"../../../data/gentrification/TAX_DATA/no_sales_history_sbls/htmls/\")\n",
    "files[4]"
   ]
  },
  {
   "cell_type": "code",
   "execution_count": null,
   "metadata": {},
   "outputs": [],
   "source": [
    "counter = 0\n",
    "lst_failed =[] \n",
    "for file_name in files:\n",
    "    x= file_name.replace('#','.').replace('+','/')[:-5]\n",
    "    try:\n",
    "        with open(path +  file_name, \"r\", encoding='utf-8') as file:\n",
    "                    data= file.read()\n",
    "\n",
    "        df= pd.read_html(str(data))[0]\n",
    "        df['SBL'] = file_name.replace('#','.').replace('+','/')[:-5]\n",
    "        df.to_csv('../../../data/gentrification/LATEST/owner_history.csv', mode='a', header=False,index = False)\n",
    "        counter += 1 \n",
    "        print(counter / len(files) * 100)\n",
    "    except:\n",
    "        print(x)\n",
    "        lst_failed.append(x)\n",
    "        display(HTML(data))"
   ]
  },
  {
   "cell_type": "code",
   "execution_count": 2,
   "metadata": {},
   "outputs": [
    {
     "data": {
      "text/plain": [
       "308561"
      ]
     },
     "execution_count": 2,
     "metadata": {},
     "output_type": "execute_result"
    }
   ],
   "source": [
    "import pandas as pd\n",
    "df2 = pd.read_csv('../../../data/gentrification/LATEST/owner_history.csv', header = None)\n",
    "def sbls(x):\n",
    "    if isinstance(x[4],str):\n",
    "        return x[4]\n",
    "    return x[2]\n",
    "df2['SBLS'] = df2.apply(lambda x: sbls(x), axis = 1)\n",
    "df2['Deed page'] = df2[3].str.split('*').str[0].str.replace(' ','').str.replace('-','/')\n",
    "len(df2)"
   ]
  },
  {
   "cell_type": "code",
   "execution_count": 6,
   "metadata": {},
   "outputs": [
    {
     "data": {
      "text/html": [
       "<div>\n",
       "<style scoped>\n",
       "    .dataframe tbody tr th:only-of-type {\n",
       "        vertical-align: middle;\n",
       "    }\n",
       "\n",
       "    .dataframe tbody tr th {\n",
       "        vertical-align: top;\n",
       "    }\n",
       "\n",
       "    .dataframe thead th {\n",
       "        text-align: right;\n",
       "    }\n",
       "</style>\n",
       "<table border=\"1\" class=\"dataframe\">\n",
       "  <thead>\n",
       "    <tr style=\"text-align: right;\">\n",
       "      <th></th>\n",
       "      <th>0</th>\n",
       "      <th>1</th>\n",
       "      <th>2</th>\n",
       "      <th>3</th>\n",
       "      <th>4</th>\n",
       "      <th>SBLS</th>\n",
       "      <th>Deed page</th>\n",
       "    </tr>\n",
       "  </thead>\n",
       "  <tbody>\n",
       "    <tr>\n",
       "      <th>231420</th>\n",
       "      <td>Owner</td>\n",
       "      <td>RILES MELVIN &amp; GEORGIA T</td>\n",
       "      <td>Book-Page/Date</td>\n",
       "      <td>8433-431 * 9/15/1976 *</td>\n",
       "      <td>100.43-2-59</td>\n",
       "      <td>100.43-2-59</td>\n",
       "      <td>8433/431</td>\n",
       "    </tr>\n",
       "    <tr>\n",
       "      <th>231421</th>\n",
       "      <td>Owner</td>\n",
       "      <td>RILES GEORGIA T</td>\n",
       "      <td>Book-Page/Date</td>\n",
       "      <td>10868-1339 * 3/15/1994 *</td>\n",
       "      <td>100.43-2-59</td>\n",
       "      <td>100.43-2-59</td>\n",
       "      <td>10868/1339</td>\n",
       "    </tr>\n",
       "    <tr>\n",
       "      <th>231422</th>\n",
       "      <td>Owner</td>\n",
       "      <td>RILES LORRAINE F</td>\n",
       "      <td>Book-Page/Date</td>\n",
       "      <td>11222-7565 * 5/7/2012 *</td>\n",
       "      <td>100.43-2-59</td>\n",
       "      <td>100.43-2-59</td>\n",
       "      <td>11222/7565</td>\n",
       "    </tr>\n",
       "    <tr>\n",
       "      <th>231423</th>\n",
       "      <td>Owner</td>\n",
       "      <td>LINWOOD LAFAYETTE HOUSING DEV FUND CO INC</td>\n",
       "      <td>Book-Page/Date</td>\n",
       "      <td>11323-4848 * 12/27/2017 *</td>\n",
       "      <td>100.24-1-1.1</td>\n",
       "      <td>100.24-1-1.1</td>\n",
       "      <td>11323/4848</td>\n",
       "    </tr>\n",
       "    <tr>\n",
       "      <th>231424</th>\n",
       "      <td>Owner</td>\n",
       "      <td>CHUDY GERALD &amp; W</td>\n",
       "      <td>Book-Page/Date</td>\n",
       "      <td>8199-251 * 8/13/1974 *</td>\n",
       "      <td>123.81-8-2</td>\n",
       "      <td>123.81-8-2</td>\n",
       "      <td>8199/251</td>\n",
       "    </tr>\n",
       "    <tr>\n",
       "      <th>...</th>\n",
       "      <td>...</td>\n",
       "      <td>...</td>\n",
       "      <td>...</td>\n",
       "      <td>...</td>\n",
       "      <td>...</td>\n",
       "      <td>...</td>\n",
       "      <td>...</td>\n",
       "    </tr>\n",
       "    <tr>\n",
       "      <th>308556</th>\n",
       "      <td>Owner</td>\n",
       "      <td>SURDI MARK J</td>\n",
       "      <td>Book-Page/Date</td>\n",
       "      <td>9950-150 * 11/23/1988 *</td>\n",
       "      <td>77.49-1-18</td>\n",
       "      <td>77.49-1-18</td>\n",
       "      <td>9950/150</td>\n",
       "    </tr>\n",
       "    <tr>\n",
       "      <th>308557</th>\n",
       "      <td>Owner</td>\n",
       "      <td>SURDI JOSEPH D</td>\n",
       "      <td>Book-Page/Date</td>\n",
       "      <td>10884-5136 * 3/31/1995 *</td>\n",
       "      <td>77.49-1-18</td>\n",
       "      <td>77.49-1-18</td>\n",
       "      <td>10884/5136</td>\n",
       "    </tr>\n",
       "    <tr>\n",
       "      <th>308558</th>\n",
       "      <td>Owner</td>\n",
       "      <td>SURDI JOSEPH D &amp; BEVERLY</td>\n",
       "      <td>Book-Page/Date</td>\n",
       "      <td>10884-8668 * 4/10/1995 *</td>\n",
       "      <td>77.49-1-18</td>\n",
       "      <td>77.49-1-18</td>\n",
       "      <td>10884/8668</td>\n",
       "    </tr>\n",
       "    <tr>\n",
       "      <th>308559</th>\n",
       "      <td>Owner</td>\n",
       "      <td>BARNES DAVID</td>\n",
       "      <td>Book-Page/Date</td>\n",
       "      <td>11216-6145 * 1/31/2012 *</td>\n",
       "      <td>77.49-1-18</td>\n",
       "      <td>77.49-1-18</td>\n",
       "      <td>11216/6145</td>\n",
       "    </tr>\n",
       "    <tr>\n",
       "      <th>308560</th>\n",
       "      <td>Owner</td>\n",
       "      <td>GOETZ JENNIFER</td>\n",
       "      <td>Book-Page/Date</td>\n",
       "      <td>11315-9723 * 7/19/2017 *</td>\n",
       "      <td>77.49-1-18</td>\n",
       "      <td>77.49-1-18</td>\n",
       "      <td>11315/9723</td>\n",
       "    </tr>\n",
       "  </tbody>\n",
       "</table>\n",
       "<p>77141 rows × 7 columns</p>\n",
       "</div>"
      ],
      "text/plain": [
       "            0                                          1               2  \\\n",
       "231420  Owner                   RILES MELVIN & GEORGIA T  Book-Page/Date   \n",
       "231421  Owner                            RILES GEORGIA T  Book-Page/Date   \n",
       "231422  Owner                           RILES LORRAINE F  Book-Page/Date   \n",
       "231423  Owner  LINWOOD LAFAYETTE HOUSING DEV FUND CO INC  Book-Page/Date   \n",
       "231424  Owner                           CHUDY GERALD & W  Book-Page/Date   \n",
       "...       ...                                        ...             ...   \n",
       "308556  Owner                               SURDI MARK J  Book-Page/Date   \n",
       "308557  Owner                             SURDI JOSEPH D  Book-Page/Date   \n",
       "308558  Owner                   SURDI JOSEPH D & BEVERLY  Book-Page/Date   \n",
       "308559  Owner                               BARNES DAVID  Book-Page/Date   \n",
       "308560  Owner                             GOETZ JENNIFER  Book-Page/Date   \n",
       "\n",
       "                                3             4          SBLS   Deed page  \n",
       "231420     8433-431 * 9/15/1976 *   100.43-2-59   100.43-2-59    8433/431  \n",
       "231421   10868-1339 * 3/15/1994 *   100.43-2-59   100.43-2-59  10868/1339  \n",
       "231422    11222-7565 * 5/7/2012 *   100.43-2-59   100.43-2-59  11222/7565  \n",
       "231423  11323-4848 * 12/27/2017 *  100.24-1-1.1  100.24-1-1.1  11323/4848  \n",
       "231424     8199-251 * 8/13/1974 *    123.81-8-2    123.81-8-2    8199/251  \n",
       "...                           ...           ...           ...         ...  \n",
       "308556    9950-150 * 11/23/1988 *    77.49-1-18    77.49-1-18    9950/150  \n",
       "308557   10884-5136 * 3/31/1995 *    77.49-1-18    77.49-1-18  10884/5136  \n",
       "308558   10884-8668 * 4/10/1995 *    77.49-1-18    77.49-1-18  10884/8668  \n",
       "308559   11216-6145 * 1/31/2012 *    77.49-1-18    77.49-1-18  11216/6145  \n",
       "308560   11315-9723 * 7/19/2017 *    77.49-1-18    77.49-1-18  11315/9723  \n",
       "\n",
       "[77141 rows x 7 columns]"
      ]
     },
     "execution_count": 6,
     "metadata": {},
     "output_type": "execute_result"
    }
   ],
   "source": [
    "df3 # This is the result "
   ]
  },
  {
   "cell_type": "markdown",
   "metadata": {},
   "source": [
    "# in this section, we parse through the public records html and combine them the considerations we got to the owner history data"
   ]
  },
  {
   "cell_type": "code",
   "execution_count": 615,
   "metadata": {},
   "outputs": [],
   "source": [
    "df = pd.DataFrame(lst_failed)\n",
    "df['comb'] = df[0]+df[1]"
   ]
  },
  {
   "cell_type": "code",
   "execution_count": null,
   "metadata": {},
   "outputs": [],
   "source": [
    "len(df['comb'].unique())"
   ]
  },
  {
   "cell_type": "code",
   "execution_count": 6,
   "metadata": {},
   "outputs": [
    {
     "data": {
      "text/plain": [
       "'78#76-3-11+10035$53&10.html'"
      ]
     },
     "execution_count": 6,
     "metadata": {},
     "output_type": "execute_result"
    }
   ],
   "source": [
    "import os \n",
    "from IPython.core.display import display, HTML\n",
    "files = os.listdir(\"../../../data/gentrification/LATEST/htmls4/\")\n",
    "files[0]"
   ]
  },
  {
   "cell_type": "code",
   "execution_count": 7,
   "metadata": {},
   "outputs": [
    {
     "name": "stdout",
     "output_type": "stream",
     "text": [
      "99.99945293010634\n"
     ]
    }
   ],
   "source": [
    "from collections import defaultdict\n",
    "from IPython.display import clear_output\n",
    "import numpy as np\n",
    "lst = []\n",
    "counter = 0\n",
    "lst_failed= []\n",
    "dct = defaultdict(list)\n",
    "for fl in files: \n",
    "    with open(\"../../../data/gentrification/LATEST/htmls4/\" + fl, \"r\", encoding='utf-8') as file:\n",
    "            data = file.read()\n",
    "    name = fl[:-5].replace('#','.').replace('$','/')\n",
    "    sbl = name.split(\"+\")[0]\n",
    "    deed_page = name.split(\"+\")[1].split(\"&\")[0]\n",
    "    try:\n",
    "        doc_types = []\n",
    "        df= pd.read_html(str(data))\n",
    "    except Exception as e:\n",
    "        lst_failed.append([fl,e])\n",
    "        lst.append([sbl,np.nan,np.nan,deed_page,np.nan,np.nan])\n",
    "        counter += 1 \n",
    "        continue \n",
    "    \n",
    "    doc_type = df[4][1][0]\n",
    "    consideration = df[4][1][6]\n",
    "    date = df[4][1][2]\n",
    "    url_book_page = df[4][1][4]\n",
    "    dct_name = sbl + \"+\" + deed_page\n",
    "    print(counter/len(files)*100)\n",
    "    if doc_type not in dct[dct_name]:\n",
    "        lst.append([sbl,consideration,doc_type,deed_page,url_book_page,date])\n",
    "        dct[dct_name].append(doc_type)\n",
    "    counter += 1 \n",
    "    clear_output(wait = True)\n",
    "    "
   ]
  },
  {
   "cell_type": "code",
   "execution_count": 8,
   "metadata": {},
   "outputs": [],
   "source": [
    "df = pd.DataFrame(lst, columns = ['SBLS','considerations','doc type','deed page(search parcel)','deed page(public records)','date(public records)'])\n",
    "#df.groupby('SBLS').apply(lambda x: print(x))\n"
   ]
  },
  {
   "cell_type": "code",
   "execution_count": 10,
   "metadata": {},
   "outputs": [],
   "source": [
    "df.to_csv('deeds4.csv', index = False)"
   ]
  },
  {
   "cell_type": "code",
   "execution_count": 11,
   "metadata": {},
   "outputs": [],
   "source": [
    "lst_df = []\n",
    "for i in range(1,5):\n",
    "    df2 = pd.read_csv('deeds'+str(i)+\".csv\")\n",
    "    lst_df.append(df2)"
   ]
  },
  {
   "cell_type": "code",
   "execution_count": 16,
   "metadata": {},
   "outputs": [],
   "source": [
    "pd.concat(lst_df).reset_index(drop= True).to_csv('combined_deeds.csv',index= False) # we concatenate all deeds "
   ]
  },
  {
   "cell_type": "code",
   "execution_count": 17,
   "metadata": {},
   "outputs": [
    {
     "data": {
      "text/html": [
       "<div>\n",
       "<style scoped>\n",
       "    .dataframe tbody tr th:only-of-type {\n",
       "        vertical-align: middle;\n",
       "    }\n",
       "\n",
       "    .dataframe tbody tr th {\n",
       "        vertical-align: top;\n",
       "    }\n",
       "\n",
       "    .dataframe thead th {\n",
       "        text-align: right;\n",
       "    }\n",
       "</style>\n",
       "<table border=\"1\" class=\"dataframe\">\n",
       "  <thead>\n",
       "    <tr style=\"text-align: right;\">\n",
       "      <th></th>\n",
       "      <th>SBLS</th>\n",
       "      <th>considerations</th>\n",
       "      <th>doc type</th>\n",
       "      <th>deed page(search parcel)</th>\n",
       "      <th>deed page(public records)</th>\n",
       "      <th>date(public records)</th>\n",
       "    </tr>\n",
       "  </thead>\n",
       "  <tbody>\n",
       "  </tbody>\n",
       "</table>\n",
       "</div>"
      ],
      "text/plain": [
       "Empty DataFrame\n",
       "Columns: [SBLS, considerations, doc type, deed page(search parcel), deed page(public records), date(public records)]\n",
       "Index: []"
      ]
     },
     "execution_count": 17,
     "metadata": {},
     "output_type": "execute_result"
    }
   ],
   "source": [
    "df[df['considerations'].isnull()]"
   ]
  },
  {
   "cell_type": "code",
   "execution_count": null,
   "metadata": {},
   "outputs": [],
   "source": []
  }
 ],
 "metadata": {
  "kernelspec": {
   "display_name": "Python [conda env:.conda-volt_env]",
   "language": "python",
   "name": "conda-env-.conda-volt_env-py"
  },
  "language_info": {
   "codemirror_mode": {
    "name": "ipython",
    "version": 3
   },
   "file_extension": ".py",
   "mimetype": "text/x-python",
   "name": "python",
   "nbconvert_exporter": "python",
   "pygments_lexer": "ipython3",
   "version": "3.7.5"
  }
 },
 "nbformat": 4,
 "nbformat_minor": 4
}
